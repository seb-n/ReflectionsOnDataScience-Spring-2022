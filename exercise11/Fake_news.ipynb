{
 "cells": [
  {
   "cell_type": "markdown",
   "id": "elementary-dollar",
   "metadata": {},
   "source": [
    "### Fake news description\n",
    "Your task is to describe characteristics of real and fake news, without using machine learning. You can find the data in `fake_news.csv`."
   ]
  },
  {
   "cell_type": "code",
   "execution_count": null,
   "id": "right-division",
   "metadata": {},
   "outputs": [],
   "source": [
    "import pandas as pd"
   ]
  },
  {
   "cell_type": "code",
   "execution_count": null,
   "id": "coastal-acrylic",
   "metadata": {},
   "outputs": [],
   "source": [
    "df = pd.read_csv(\"fake_news.csv\")"
   ]
  },
  {
   "cell_type": "markdown",
   "id": "likely-genealogy",
   "metadata": {},
   "source": [
    "### Word count\n",
    "After preprocessing the data, count the most frequent words for each category. Do you see an overlap between categories? How would you counter it?"
   ]
  },
  {
   "cell_type": "code",
   "execution_count": null,
   "id": "improving-triple",
   "metadata": {},
   "outputs": [],
   "source": []
  },
  {
   "cell_type": "markdown",
   "id": "horizontal-patch",
   "metadata": {},
   "source": [
    "### Embeddings\n",
    "Grab [GloVe embeddings](https://nlp.stanford.edu/data/glove.6B.zip). Calculate aggregate score for each document (either sum or average is fine). Using a dimensionality reduction method of your choice, reduce the data to 2 and 3 dimensions and visualize it. Do you find well seperated clusters? "
   ]
  },
  {
   "cell_type": "code",
   "execution_count": null,
   "id": "promising-radar",
   "metadata": {},
   "outputs": [],
   "source": []
  }
 ],
 "metadata": {
  "kernelspec": {
   "display_name": "Python 3",
   "language": "python",
   "name": "python3"
  },
  "language_info": {
   "codemirror_mode": {
    "name": "ipython",
    "version": 3
   },
   "file_extension": ".py",
   "mimetype": "text/x-python",
   "name": "python",
   "nbconvert_exporter": "python",
   "pygments_lexer": "ipython3",
   "version": "3.9.5"
  }
 },
 "nbformat": 4,
 "nbformat_minor": 5
}
