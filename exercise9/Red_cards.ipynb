{
 "cells": [
  {
   "cell_type": "markdown",
   "metadata": {},
   "source": [
    "### Task"
   ]
  },
  {
   "cell_type": "markdown",
   "metadata": {},
   "source": [
    "In a [crowdsourced data analysis experiment](https://fivethirtyeight.com/features/science-isnt-broken/#part2), twenty-nine teams involving 61 analysts used the same data set to address the same research question: are soccer referees more likely to give red cards to dark-skin-toned players than to light-skin-toned players? Analytic approaches varied widely across the teams. Some teams found a statistically significant positive effect, while others did not observe a significant relationship. Overall, the 29 different analyses used 21 unique combinations of covariates. These findings suggest that significant variation in the results of analyses of complex data may be difficult to avoid, even by experts with honest intentions."
   ]
  },
  {
   "cell_type": "markdown",
   "metadata": {},
   "source": [
    "Using your own strategy, your task is to answer the question: are soccer referees more likely to give red cards to dark-skin-toned players than to light-skin-toned players?"
   ]
  },
  {
   "cell_type": "markdown",
   "metadata": {},
   "source": [
    "You can use either the full dataset available in `red_card_dataset_full.csv` or the one with selected features in `red_card_dataset_selected.csv`"
   ]
  },
  {
   "cell_type": "markdown",
   "metadata": {},
   "source": [
    "### Preprocessing"
   ]
  },
  {
   "cell_type": "code",
   "execution_count": null,
   "metadata": {},
   "outputs": [],
   "source": []
  },
  {
   "cell_type": "markdown",
   "metadata": {},
   "source": [
    "### Model selection"
   ]
  },
  {
   "cell_type": "code",
   "execution_count": null,
   "metadata": {},
   "outputs": [],
   "source": []
  },
  {
   "cell_type": "markdown",
   "metadata": {},
   "source": [
    "### Findings"
   ]
  },
  {
   "cell_type": "code",
   "execution_count": null,
   "metadata": {},
   "outputs": [],
   "source": []
  }
 ],
 "metadata": {
  "kernelspec": {
   "display_name": "Python 3",
   "language": "python",
   "name": "python3"
  },
  "language_info": {
   "codemirror_mode": {
    "name": "ipython",
    "version": 3
   },
   "file_extension": ".py",
   "mimetype": "text/x-python",
   "name": "python",
   "nbconvert_exporter": "python",
   "pygments_lexer": "ipython3",
   "version": "3.8.10"
  }
 },
 "nbformat": 4,
 "nbformat_minor": 4
}
